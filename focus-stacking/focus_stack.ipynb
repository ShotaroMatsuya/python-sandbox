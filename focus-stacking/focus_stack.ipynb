{
 "cells": [
  {
   "cell_type": "code",
   "execution_count": null,
   "metadata": {},
   "outputs": [],
   "source": [
    "import os\n",
    "import matplotlib.pyplot as plt\n",
    "import cv2\n",
    "import numpy as np\n",
    "import focus_stack as stk\n",
    "\n",
    "EXTENSIONS = set([\"bmp\", \"jpeg\", \"jpg\", \"png\", \"tif\", \"tiff\"])\n",
    "\n",
    "src_dir = \"images/input/books\"\n",
    "src_contents = os.walk(src_dir)\n",
    "dirpath, _, fnames = next(src_contents)\n",
    "\n",
    "image_dir = os.path.split(dirpath)[-1]\n",
    "\n",
    "print(\"Processing '\" + image_dir + \"' folder...\")\n",
    "\n",
    "image_files = sorted([os.path.join(dirpath, name) for name in fnames])\n",
    "image_files = [cv2.imread(name) for name in image_files\n",
    "          if os.path.splitext(name)[-1][1:].lower() in EXTENSIONS]\n",
    "\n",
    "if any([image is None for image in image_files]):\n",
    "    raise RuntimeError(\"One or more input files failed to load.\")\n",
    "    \n",
    "stacked = stk.stack_focus(image_files)\n",
    "plt.figure(figsize=(16,11))\n",
    "plt.imshow(cv2.cvtColor(stacked, cv2.COLOR_BGR2RGB))\n",
    "plt.show()"
   ]
  },
  {
   "cell_type": "code",
   "execution_count": null,
   "metadata": {},
   "outputs": [],
   "source": []
  }
 ],
 "metadata": {
  "kernelspec": {
   "display_name": "Python 3",
   "language": "python",
   "name": "python3"
  },
  "language_info": {
   "codemirror_mode": {
    "name": "ipython",
    "version": 3
   },
   "file_extension": ".py",
   "mimetype": "text/x-python",
   "name": "python",
   "nbconvert_exporter": "python",
   "pygments_lexer": "ipython3",
   "version": "3.6.3"
  }
 },
 "nbformat": 4,
 "nbformat_minor": 2
}
